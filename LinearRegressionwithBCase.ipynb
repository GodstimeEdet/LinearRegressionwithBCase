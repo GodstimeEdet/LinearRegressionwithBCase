{
 "cells": [
  {
   "cell_type": "markdown",
   "id": "bb8e2b46",
   "metadata": {},
   "source": [
    "### BUSINESS CASE\n",
    "\n",
    "ABC company has spend huge amount of money on RandD, administration, marketing in various states in the US, now the want to predict what will be their profit after spending much on this features\n",
    "\n",
    "\n"
   ]
  },
  {
   "cell_type": "code",
   "execution_count": 4,
   "id": "688721a9",
   "metadata": {},
   "outputs": [],
   "source": [
    "#importing libraries\n",
    "\n",
    "import pandas as pd\n",
    "import numpy as np\n",
    "import matplotlib.pyplot as plt\n",
    "import seaborn as sns\n",
    "%matplotlib inline"
   ]
  },
  {
   "cell_type": "code",
   "execution_count": 13,
   "id": "70a0929c",
   "metadata": {},
   "outputs": [],
   "source": [
    "#Loading the data\n",
    "data=pd.read_csv('50_Startups.csv')"
   ]
  },
  {
   "cell_type": "code",
   "execution_count": 14,
   "id": "0ae632fb",
   "metadata": {},
   "outputs": [
    {
     "data": {
      "text/plain": [
       "(50, 5)"
      ]
     },
     "execution_count": 14,
     "metadata": {},
     "output_type": "execute_result"
    }
   ],
   "source": [
    "data.shape"
   ]
  },
  {
   "cell_type": "markdown",
   "id": "a791f897",
   "metadata": {},
   "source": [
    "The head() function in Pandas will be used to view the first few rows of a Pandas DataFrame or Series. By default, it displays the first 5 rows, but you can also specify the number of rows you want to display by passing an argument to the function."
   ]
  },
  {
   "cell_type": "code",
   "execution_count": 15,
   "id": "3c2fac45",
   "metadata": {
    "scrolled": true
   },
   "outputs": [
    {
     "data": {
      "text/html": [
       "<div>\n",
       "<style scoped>\n",
       "    .dataframe tbody tr th:only-of-type {\n",
       "        vertical-align: middle;\n",
       "    }\n",
       "\n",
       "    .dataframe tbody tr th {\n",
       "        vertical-align: top;\n",
       "    }\n",
       "\n",
       "    .dataframe thead th {\n",
       "        text-align: right;\n",
       "    }\n",
       "</style>\n",
       "<table border=\"1\" class=\"dataframe\">\n",
       "  <thead>\n",
       "    <tr style=\"text-align: right;\">\n",
       "      <th></th>\n",
       "      <th>R&amp;D Spend</th>\n",
       "      <th>Administration</th>\n",
       "      <th>Marketing Spend</th>\n",
       "      <th>State</th>\n",
       "      <th>Profit</th>\n",
       "    </tr>\n",
       "  </thead>\n",
       "  <tbody>\n",
       "    <tr>\n",
       "      <th>0</th>\n",
       "      <td>165349.20</td>\n",
       "      <td>136897.80</td>\n",
       "      <td>471784.10</td>\n",
       "      <td>New York</td>\n",
       "      <td>192261.83</td>\n",
       "    </tr>\n",
       "    <tr>\n",
       "      <th>1</th>\n",
       "      <td>162597.70</td>\n",
       "      <td>151377.59</td>\n",
       "      <td>443898.53</td>\n",
       "      <td>California</td>\n",
       "      <td>191792.06</td>\n",
       "    </tr>\n",
       "    <tr>\n",
       "      <th>2</th>\n",
       "      <td>153441.51</td>\n",
       "      <td>101145.55</td>\n",
       "      <td>407934.54</td>\n",
       "      <td>Florida</td>\n",
       "      <td>191050.39</td>\n",
       "    </tr>\n",
       "    <tr>\n",
       "      <th>3</th>\n",
       "      <td>144372.41</td>\n",
       "      <td>118671.85</td>\n",
       "      <td>383199.62</td>\n",
       "      <td>New York</td>\n",
       "      <td>182901.99</td>\n",
       "    </tr>\n",
       "    <tr>\n",
       "      <th>4</th>\n",
       "      <td>142107.34</td>\n",
       "      <td>91391.77</td>\n",
       "      <td>366168.42</td>\n",
       "      <td>Florida</td>\n",
       "      <td>166187.94</td>\n",
       "    </tr>\n",
       "  </tbody>\n",
       "</table>\n",
       "</div>"
      ],
      "text/plain": [
       "   R&D Spend  Administration  Marketing Spend       State     Profit\n",
       "0  165349.20       136897.80        471784.10    New York  192261.83\n",
       "1  162597.70       151377.59        443898.53  California  191792.06\n",
       "2  153441.51       101145.55        407934.54     Florida  191050.39\n",
       "3  144372.41       118671.85        383199.62    New York  182901.99\n",
       "4  142107.34        91391.77        366168.42     Florida  166187.94"
      ]
     },
     "execution_count": 15,
     "metadata": {},
     "output_type": "execute_result"
    }
   ],
   "source": [
    "## Call the dataframe and do basic checks\n",
    "data.head()"
   ]
  },
  {
   "cell_type": "code",
   "execution_count": 16,
   "id": "c3521ca7",
   "metadata": {},
   "outputs": [
    {
     "data": {
      "text/html": [
       "<div>\n",
       "<style scoped>\n",
       "    .dataframe tbody tr th:only-of-type {\n",
       "        vertical-align: middle;\n",
       "    }\n",
       "\n",
       "    .dataframe tbody tr th {\n",
       "        vertical-align: top;\n",
       "    }\n",
       "\n",
       "    .dataframe thead th {\n",
       "        text-align: right;\n",
       "    }\n",
       "</style>\n",
       "<table border=\"1\" class=\"dataframe\">\n",
       "  <thead>\n",
       "    <tr style=\"text-align: right;\">\n",
       "      <th></th>\n",
       "      <th>R&amp;D Spend</th>\n",
       "      <th>Administration</th>\n",
       "      <th>Marketing Spend</th>\n",
       "      <th>State</th>\n",
       "      <th>Profit</th>\n",
       "    </tr>\n",
       "  </thead>\n",
       "  <tbody>\n",
       "    <tr>\n",
       "      <th>45</th>\n",
       "      <td>1000.23</td>\n",
       "      <td>124153.04</td>\n",
       "      <td>1903.93</td>\n",
       "      <td>New York</td>\n",
       "      <td>64926.08</td>\n",
       "    </tr>\n",
       "    <tr>\n",
       "      <th>46</th>\n",
       "      <td>1315.46</td>\n",
       "      <td>115816.21</td>\n",
       "      <td>297114.46</td>\n",
       "      <td>Florida</td>\n",
       "      <td>49490.75</td>\n",
       "    </tr>\n",
       "    <tr>\n",
       "      <th>47</th>\n",
       "      <td>0.00</td>\n",
       "      <td>135426.92</td>\n",
       "      <td>0.00</td>\n",
       "      <td>California</td>\n",
       "      <td>42559.73</td>\n",
       "    </tr>\n",
       "    <tr>\n",
       "      <th>48</th>\n",
       "      <td>542.05</td>\n",
       "      <td>51743.15</td>\n",
       "      <td>0.00</td>\n",
       "      <td>New York</td>\n",
       "      <td>35673.41</td>\n",
       "    </tr>\n",
       "    <tr>\n",
       "      <th>49</th>\n",
       "      <td>0.00</td>\n",
       "      <td>116983.80</td>\n",
       "      <td>45173.06</td>\n",
       "      <td>California</td>\n",
       "      <td>14681.40</td>\n",
       "    </tr>\n",
       "  </tbody>\n",
       "</table>\n",
       "</div>"
      ],
      "text/plain": [
       "    R&D Spend  Administration  Marketing Spend       State    Profit\n",
       "45    1000.23       124153.04          1903.93    New York  64926.08\n",
       "46    1315.46       115816.21        297114.46     Florida  49490.75\n",
       "47       0.00       135426.92             0.00  California  42559.73\n",
       "48     542.05        51743.15             0.00    New York  35673.41\n",
       "49       0.00       116983.80         45173.06  California  14681.40"
      ]
     },
     "execution_count": 16,
     "metadata": {},
     "output_type": "execute_result"
    }
   ],
   "source": [
    "data.tail()"
   ]
  },
  {
   "cell_type": "markdown",
   "id": "49f91790",
   "metadata": {},
   "source": []
  },
  {
   "cell_type": "code",
   "execution_count": 65,
   "id": "2639aba5",
   "metadata": {
    "scrolled": true
   },
   "outputs": [
    {
     "name": "stdout",
     "output_type": "stream",
     "text": [
      "<class 'pandas.core.frame.DataFrame'>\n",
      "RangeIndex: 50 entries, 0 to 49\n",
      "Data columns (total 4 columns):\n",
      " #   Column          Non-Null Count  Dtype  \n",
      "---  ------          --------------  -----  \n",
      " 0   RandDSpend      50 non-null     float64\n",
      " 1   Administration  50 non-null     float64\n",
      " 2   MarketingSpend  50 non-null     float64\n",
      " 3   Profit          50 non-null     float64\n",
      "dtypes: float64(4)\n",
      "memory usage: 1.7 KB\n"
     ]
    }
   ],
   "source": [
    "'''we are going to use the info function in Pandas to provide a \n",
    "concise summary of a DataFrame, including the number of non-null\n",
    "values in each column, the data type of each column, and the memory \n",
    "usage of the DataFrame. It is useful for quickly understanding the \n",
    "structure and content of a DataFrame.'''\n",
    "data.info()\n",
    "# checking for missing values"
   ]
  },
  {
   "cell_type": "code",
   "execution_count": 18,
   "id": "baac6dde",
   "metadata": {},
   "outputs": [
    {
     "data": {
      "text/html": [
       "<div>\n",
       "<style scoped>\n",
       "    .dataframe tbody tr th:only-of-type {\n",
       "        vertical-align: middle;\n",
       "    }\n",
       "\n",
       "    .dataframe tbody tr th {\n",
       "        vertical-align: top;\n",
       "    }\n",
       "\n",
       "    .dataframe thead th {\n",
       "        text-align: right;\n",
       "    }\n",
       "</style>\n",
       "<table border=\"1\" class=\"dataframe\">\n",
       "  <thead>\n",
       "    <tr style=\"text-align: right;\">\n",
       "      <th></th>\n",
       "      <th>count</th>\n",
       "      <th>mean</th>\n",
       "      <th>std</th>\n",
       "      <th>min</th>\n",
       "      <th>25%</th>\n",
       "      <th>50%</th>\n",
       "      <th>75%</th>\n",
       "      <th>max</th>\n",
       "    </tr>\n",
       "  </thead>\n",
       "  <tbody>\n",
       "    <tr>\n",
       "      <th>R&amp;D Spend</th>\n",
       "      <td>50.0</td>\n",
       "      <td>73721.6156</td>\n",
       "      <td>45902.256482</td>\n",
       "      <td>0.00</td>\n",
       "      <td>39936.3700</td>\n",
       "      <td>73051.080</td>\n",
       "      <td>101602.8000</td>\n",
       "      <td>165349.20</td>\n",
       "    </tr>\n",
       "    <tr>\n",
       "      <th>Administration</th>\n",
       "      <td>50.0</td>\n",
       "      <td>121344.6396</td>\n",
       "      <td>28017.802755</td>\n",
       "      <td>51283.14</td>\n",
       "      <td>103730.8750</td>\n",
       "      <td>122699.795</td>\n",
       "      <td>144842.1800</td>\n",
       "      <td>182645.56</td>\n",
       "    </tr>\n",
       "    <tr>\n",
       "      <th>Marketing Spend</th>\n",
       "      <td>50.0</td>\n",
       "      <td>211025.0978</td>\n",
       "      <td>122290.310726</td>\n",
       "      <td>0.00</td>\n",
       "      <td>129300.1325</td>\n",
       "      <td>212716.240</td>\n",
       "      <td>299469.0850</td>\n",
       "      <td>471784.10</td>\n",
       "    </tr>\n",
       "    <tr>\n",
       "      <th>Profit</th>\n",
       "      <td>50.0</td>\n",
       "      <td>112012.6392</td>\n",
       "      <td>40306.180338</td>\n",
       "      <td>14681.40</td>\n",
       "      <td>90138.9025</td>\n",
       "      <td>107978.190</td>\n",
       "      <td>139765.9775</td>\n",
       "      <td>192261.83</td>\n",
       "    </tr>\n",
       "  </tbody>\n",
       "</table>\n",
       "</div>"
      ],
      "text/plain": [
       "                 count         mean            std       min          25%  \\\n",
       "R&D Spend         50.0   73721.6156   45902.256482      0.00   39936.3700   \n",
       "Administration    50.0  121344.6396   28017.802755  51283.14  103730.8750   \n",
       "Marketing Spend   50.0  211025.0978  122290.310726      0.00  129300.1325   \n",
       "Profit            50.0  112012.6392   40306.180338  14681.40   90138.9025   \n",
       "\n",
       "                        50%          75%        max  \n",
       "R&D Spend         73051.080  101602.8000  165349.20  \n",
       "Administration   122699.795  144842.1800  182645.56  \n",
       "Marketing Spend  212716.240  299469.0850  471784.10  \n",
       "Profit           107978.190  139765.9775  192261.83  "
      ]
     },
     "execution_count": 18,
     "metadata": {},
     "output_type": "execute_result"
    }
   ],
   "source": [
    "'''The describe function in Pandas is a method that provides a \n",
    "statistical summary of a DataFrame or Series. It includes count,\n",
    "mean, standard deviation, minimum and maximum values, and quartiles \n",
    "for numeric columns, and count, unique, top, and frequency for object and categorical columns.\n",
    "'''\n",
    "data.describe().T"
   ]
  },
  {
   "cell_type": "markdown",
   "id": "858f06a1",
   "metadata": {},
   "source": [
    "1. the distribution of Marketing Spend have more spread than others\n",
    "2. the company have spend 0.00 dolars for Marketing Spend and R&D Spend\n",
    "3. while Marketing Spend pulls the highest dolars spend "
   ]
  },
  {
   "cell_type": "markdown",
   "id": "433ebfb6",
   "metadata": {},
   "source": [
    "# Exploratory Data Analysis"
   ]
  },
  {
   "cell_type": "code",
   "execution_count": 91,
   "id": "b49512f2",
   "metadata": {},
   "outputs": [
    {
     "data": {
      "text/plain": [
       "Index(['RandDSpend', 'Administration', 'MarketingSpend', 'Profit'], dtype='object')"
      ]
     },
     "execution_count": 91,
     "metadata": {},
     "output_type": "execute_result"
    }
   ],
   "source": [
    "data.columns "
   ]
  },
  {
   "cell_type": "code",
   "execution_count": 21,
   "id": "67e63eb3",
   "metadata": {},
   "outputs": [],
   "source": [
    "# rename the 'R&D Spend' column to 'RandDSpend', 'MarketingSpend'\n",
    "data = data.rename(columns={'R&D Spend': 'RandDSpend', 'Marketing Spend': 'MarketingSpend'})"
   ]
  },
  {
   "cell_type": "code",
   "execution_count": 22,
   "id": "2d84799c",
   "metadata": {},
   "outputs": [
    {
     "data": {
      "text/html": [
       "<div>\n",
       "<style scoped>\n",
       "    .dataframe tbody tr th:only-of-type {\n",
       "        vertical-align: middle;\n",
       "    }\n",
       "\n",
       "    .dataframe tbody tr th {\n",
       "        vertical-align: top;\n",
       "    }\n",
       "\n",
       "    .dataframe thead th {\n",
       "        text-align: right;\n",
       "    }\n",
       "</style>\n",
       "<table border=\"1\" class=\"dataframe\">\n",
       "  <thead>\n",
       "    <tr style=\"text-align: right;\">\n",
       "      <th></th>\n",
       "      <th>RandDSpend</th>\n",
       "      <th>Administration</th>\n",
       "      <th>MarketingSpend</th>\n",
       "      <th>State</th>\n",
       "      <th>Profit</th>\n",
       "    </tr>\n",
       "  </thead>\n",
       "  <tbody>\n",
       "    <tr>\n",
       "      <th>0</th>\n",
       "      <td>165349.20</td>\n",
       "      <td>136897.80</td>\n",
       "      <td>471784.10</td>\n",
       "      <td>New York</td>\n",
       "      <td>192261.83</td>\n",
       "    </tr>\n",
       "    <tr>\n",
       "      <th>1</th>\n",
       "      <td>162597.70</td>\n",
       "      <td>151377.59</td>\n",
       "      <td>443898.53</td>\n",
       "      <td>California</td>\n",
       "      <td>191792.06</td>\n",
       "    </tr>\n",
       "    <tr>\n",
       "      <th>2</th>\n",
       "      <td>153441.51</td>\n",
       "      <td>101145.55</td>\n",
       "      <td>407934.54</td>\n",
       "      <td>Florida</td>\n",
       "      <td>191050.39</td>\n",
       "    </tr>\n",
       "    <tr>\n",
       "      <th>3</th>\n",
       "      <td>144372.41</td>\n",
       "      <td>118671.85</td>\n",
       "      <td>383199.62</td>\n",
       "      <td>New York</td>\n",
       "      <td>182901.99</td>\n",
       "    </tr>\n",
       "    <tr>\n",
       "      <th>4</th>\n",
       "      <td>142107.34</td>\n",
       "      <td>91391.77</td>\n",
       "      <td>366168.42</td>\n",
       "      <td>Florida</td>\n",
       "      <td>166187.94</td>\n",
       "    </tr>\n",
       "  </tbody>\n",
       "</table>\n",
       "</div>"
      ],
      "text/plain": [
       "   RandDSpend  Administration  MarketingSpend       State     Profit\n",
       "0   165349.20       136897.80       471784.10    New York  192261.83\n",
       "1   162597.70       151377.59       443898.53  California  191792.06\n",
       "2   153441.51       101145.55       407934.54     Florida  191050.39\n",
       "3   144372.41       118671.85       383199.62    New York  182901.99\n",
       "4   142107.34        91391.77       366168.42     Florida  166187.94"
      ]
     },
     "execution_count": 22,
     "metadata": {},
     "output_type": "execute_result"
    }
   ],
   "source": [
    "data.head()"
   ]
  },
  {
   "cell_type": "markdown",
   "id": "3e39a30b",
   "metadata": {},
   "source": [
    "## Step 1 Univariate Analysis"
   ]
  },
  {
   "cell_type": "markdown",
   "id": "a93624e1",
   "metadata": {},
   "source": [
    "Univariate analysis is a statistical method that focuses on analyzing a single variable at a time. It involves analyzing the characteristics of the variable, such as its central tendency, dispersion, and distribution. The objective of univariate analysis is to describe and understand the behavior of the variable and identify patterns or trends in the data.\n",
    "\n",
    "Common methods used in univariate analysis include:\n",
    "\n",
    "    Measures of central tendency: These include mean, median, and mode, which provide information on the average value of the variable.\n",
    "\n",
    "    Measures of dispersion: These include range, variance, and standard deviation, which provide information on the spread of the variable.\n",
    "\n",
    "    Frequency distribution: This involves grouping the variable into categories or bins and counting the number of observations in each category. It can be visualized using a histogram or a frequency table.\n",
    "\n",
    "    Box plots: A box plot summarizes the distribution of the variable by showing the median, quartiles, and outliers.\n",
    "\n",
    "    Probability distribution: This involves using a mathematical function to model the distribution of the variable, such as the normal distribution or the Poisson distribution.\n",
    "        \n",
    "        \n",
    "Univariate analysis is often used as a preliminary step in data analysis to gain insights into the data and identify potential outliers or data quality issues. It is also useful for understanding the characteristics of the variable and informing further analysis, such as bivariate or multivariate analysis."
   ]
  },
  {
   "cell_type": "code",
   "execution_count": 23,
   "id": "ca4eb71f",
   "metadata": {},
   "outputs": [
    {
     "data": {
      "text/plain": [
       "<seaborn.axisgrid.FacetGrid at 0x127851d90>"
      ]
     },
     "execution_count": 23,
     "metadata": {},
     "output_type": "execute_result"
    },
    {
     "data": {
      "image/png": "[encoded data removed]",
      "text/plain": [
       "<Figure size 500x500 with 1 Axes>"
      ]
     },
     "metadata": {},
     "output_type": "display_data"
    }
   ],
   "source": [
    "'''displot is a function in the seaborn data visualization library that\n",
    "creates a histogram with a kernel density plot (also known as a density plot) \n",
    "overlaid on top. It allows you to easily visualize the distribution of a univariate set \n",
    "of observations, which is particularly useful for exploring the shape\n",
    "of the data and identifying any outliers or other patterns.'''\n",
    "\n",
    "#Analyzing RandDSpend\n",
    "sns.displot(x=data.RandDSpend,kde=True)"
   ]
  },
  {
   "cell_type": "markdown",
   "id": "a3ad8204",
   "metadata": {},
   "source": [
    "this bins tells us that the have spend more number of times on RandDSpend between 75000 and 100000 USD\n",
    "and  the have spend less on RandDSpend between 100000 and 125000 USD"
   ]
  },
  {
   "cell_type": "markdown",
   "id": "a4ce6e7f",
   "metadata": {},
   "source": [
    "Kernel density estimation (KDE) is a non-parametric technique used to estimate the probability density function (PDF) of a random variable. It is a method of estimating the underlying probability distribution of a set of continuous or discrete data points, by smoothing out the data using a kernel function.\n",
    "\n",
    "In KDE, a kernel function is centered at each data point, and the density estimate at any point in the data space is obtained by adding up the contributions of all the kernels centered at each data point. The kernel function is usually a probability density function, such as the Gaussian distribution.\n",
    "\n",
    "The width of the kernel function, also known as the bandwidth, determines the level of smoothing applied to the data. A wider bandwidth results in a smoother estimate, while a narrower bandwidth leads to a more localized estimate.\n",
    "\n",
    "KDE is commonly used in data analysis, statistical modeling, and machine learning applications. It is particularly useful when the underlying PDF is unknown or difficult to specify, and when estimating the PDF is important for subsequent analysis or modeling."
   ]
  },
  {
   "cell_type": "code",
   "execution_count": 24,
   "id": "19831ee3",
   "metadata": {},
   "outputs": [
    {
     "data": {
      "text/plain": [
       "<seaborn.axisgrid.FacetGrid at 0x127af8160>"
      ]
     },
     "execution_count": 24,
     "metadata": {},
     "output_type": "execute_result"
    },
    {
     "data": {
      "image/png": "[encoded data removed]",
      "text/plain": [
       "<Figure size 500x500 with 1 Axes>"
      ]
     },
     "metadata": {},
     "output_type": "display_data"
    }
   ],
   "source": [
    "#Analyzing Administration\n",
    "sns.displot(x=data.Administration,kde=True)"
   ]
  },
  {
   "cell_type": "markdown",
   "id": "7540e8b7",
   "metadata": {},
   "source": [
    "this bins tells us that the have spend more number of times on Administration between 110000 and 130000 USD\n",
    "and  the have spend less on Administration between 160000 and 180000 USD"
   ]
  },
  {
   "cell_type": "code",
   "execution_count": 26,
   "id": "ec1f5d37",
   "metadata": {},
   "outputs": [
    {
     "data": {
      "text/plain": [
       "<seaborn.axisgrid.FacetGrid at 0x127f07e20>"
      ]
     },
     "execution_count": 26,
     "metadata": {},
     "output_type": "execute_result"
    },
    {
     "data": {
      "image/png": "[encoded data removed]",
      "text/plain": [
       "<Figure size 500x500 with 1 Axes>"
      ]
     },
     "metadata": {},
     "output_type": "display_data"
    }
   ],
   "source": [
    "#Analyzing TV\n",
    "sns.displot(x=data.MarketingSpend,kde=True)"
   ]
  },
  {
   "cell_type": "markdown",
   "id": "46cffbfd",
   "metadata": {},
   "source": [
    "## Step 2 Bivariate Analysis"
   ]
  },
  {
   "cell_type": "markdown",
   "id": "a597ff5d",
   "metadata": {},
   "source": [
    "Bivariate analysis is a statistical method used to determine the relationship between two variables. It involves analyzing two variables simultaneously to determine how they are related to each other. The main objective of bivariate analysis is to determine whether there is a relationship between the two variables and to quantify the strength and direction of that relationship.\n",
    "\n",
    "Bivariate analysis can be performed using various statistical techniques such as correlation analysis, regression analysis, chi-square test, t-test, and ANOVA (analysis of variance). These techniques can be used to analyze different types of data, including continuous, categorical, and binary data.\n",
    "\n",
    "The results of bivariate analysis can help in making predictions, identifying trends, and making decisions based on the relationship between the two variables. For example, bivariate analysis can be used to determine the relationship between a person's age and their income or the relationship between a student's grades and their attendance.\n",
    "\n",
    "Bivariate analysis is an essential tool in many fields, including social sciences, healthcare, finance, marketing, and engineering. It can help in identifying patterns and trends in data, which can be used to make informed decisions and improve outcomes."
   ]
  },
  {
   "cell_type": "code",
   "execution_count": null,
   "id": "62637a77",
   "metadata": {},
   "outputs": [],
   "source": [
    "\n",
    "# This step is performed when inputs and output are known.\n",
    "# 1st variable will be Inputs\n",
    "# 2nd variable will be output/target variable."
   ]
  },
  {
   "cell_type": "code",
   "execution_count": 27,
   "id": "c6d8359a",
   "metadata": {
    "scrolled": true
   },
   "outputs": [
    {
     "data": {
      "text/html": [
       "<div>\n",
       "<style scoped>\n",
       "    .dataframe tbody tr th:only-of-type {\n",
       "        vertical-align: middle;\n",
       "    }\n",
       "\n",
       "    .dataframe tbody tr th {\n",
       "        vertical-align: top;\n",
       "    }\n",
       "\n",
       "    .dataframe thead th {\n",
       "        text-align: right;\n",
       "    }\n",
       "</style>\n",
       "<table border=\"1\" class=\"dataframe\">\n",
       "  <thead>\n",
       "    <tr style=\"text-align: right;\">\n",
       "      <th></th>\n",
       "      <th>RandDSpend</th>\n",
       "      <th>Administration</th>\n",
       "      <th>MarketingSpend</th>\n",
       "      <th>State</th>\n",
       "      <th>Profit</th>\n",
       "    </tr>\n",
       "  </thead>\n",
       "  <tbody>\n",
       "    <tr>\n",
       "      <th>0</th>\n",
       "      <td>165349.20</td>\n",
       "      <td>136897.80</td>\n",
       "      <td>471784.10</td>\n",
       "      <td>New York</td>\n",
       "      <td>192261.83</td>\n",
       "    </tr>\n",
       "    <tr>\n",
       "      <th>1</th>\n",
       "      <td>162597.70</td>\n",
       "      <td>151377.59</td>\n",
       "      <td>443898.53</td>\n",
       "      <td>California</td>\n",
       "      <td>191792.06</td>\n",
       "    </tr>\n",
       "    <tr>\n",
       "      <th>2</th>\n",
       "      <td>153441.51</td>\n",
       "      <td>101145.55</td>\n",
       "      <td>407934.54</td>\n",
       "      <td>Florida</td>\n",
       "      <td>191050.39</td>\n",
       "    </tr>\n",
       "    <tr>\n",
       "      <th>3</th>\n",
       "      <td>144372.41</td>\n",
       "      <td>118671.85</td>\n",
       "      <td>383199.62</td>\n",
       "      <td>New York</td>\n",
       "      <td>182901.99</td>\n",
       "    </tr>\n",
       "    <tr>\n",
       "      <th>4</th>\n",
       "      <td>142107.34</td>\n",
       "      <td>91391.77</td>\n",
       "      <td>366168.42</td>\n",
       "      <td>Florida</td>\n",
       "      <td>166187.94</td>\n",
       "    </tr>\n",
       "  </tbody>\n",
       "</table>\n",
       "</div>"
      ],
      "text/plain": [
       "   RandDSpend  Administration  MarketingSpend       State     Profit\n",
       "0   165349.20       136897.80       471784.10    New York  192261.83\n",
       "1   162597.70       151377.59       443898.53  California  191792.06\n",
       "2   153441.51       101145.55       407934.54     Florida  191050.39\n",
       "3   144372.41       118671.85       383199.62    New York  182901.99\n",
       "4   142107.34        91391.77       366168.42     Florida  166187.94"
      ]
     },
     "execution_count": 27,
     "metadata": {},
     "output_type": "execute_result"
    }
   ],
   "source": [
    "data.head()"
   ]
  },
  {
   "cell_type": "code",
   "execution_count": 28,
   "id": "706a95bc",
   "metadata": {},
   "outputs": [
    {
     "data": {
      "text/plain": [
       "<seaborn.axisgrid.FacetGrid at 0x12805a2b0>"
      ]
     },
     "execution_count": 28,
     "metadata": {},
     "output_type": "execute_result"
    },
    {
     "data": {
      "image/png": "[encoded data removed]",
      "text/plain": [
       "<Figure size 500x500 with 1 Axes>"
      ]
     },
     "metadata": {},
     "output_type": "display_data"
    }
   ],
   "source": [
    "# Analyzing RandDSpend and Profit\n",
    "\n",
    "'''relplot() is a function in the Python data visualization library Seaborn. \n",
    "It is used to create a relational plot, which is a type of plot that displays \n",
    "the relationship between two variables. relplot() can create a variety of \n",
    "relational plots, including scatter plots, line plots, and categorical plots.'''\n",
    "\n",
    "sns.relplot(x='RandDSpend',y='Profit',data=data)\n",
    "# The more marketing on TV is leading to more sales in the product."
   ]
  },
  {
   "cell_type": "markdown",
   "id": "42a30dcf",
   "metadata": {},
   "source": [
    "in the above plot, we see that there is a relationship between RandDSpend and Profit"
   ]
  },
  {
   "cell_type": "code",
   "execution_count": 29,
   "id": "af1dd2fe",
   "metadata": {},
   "outputs": [
    {
     "data": {
      "text/plain": [
       "<seaborn.axisgrid.FacetGrid at 0x127deb6a0>"
      ]
     },
     "execution_count": 29,
     "metadata": {},
     "output_type": "execute_result"
    },
    {
     "data": {
      "image/png": "[encoded data removed]",
      "text/plain": [
       "<Figure size 500x500 with 1 Axes>"
      ]
     },
     "metadata": {},
     "output_type": "display_data"
    }
   ],
   "source": [
    "# Analyzing Radio and Sales\n",
    "sns.relplot(x='Administration',y='Profit',data=data)\n",
    "# Radio advertisments are not showing much trend for the sales of product."
   ]
  },
  {
   "cell_type": "markdown",
   "id": "2ce07b59",
   "metadata": {},
   "source": [
    "in the above plot, we see that there is no relationship between Administration and Profit"
   ]
  },
  {
   "cell_type": "code",
   "execution_count": 30,
   "id": "0b8122d3",
   "metadata": {},
   "outputs": [
    {
     "data": {
      "text/plain": [
       "<seaborn.axisgrid.FacetGrid at 0x10f38c8b0>"
      ]
     },
     "execution_count": 30,
     "metadata": {},
     "output_type": "execute_result"
    },
    {
     "data": {
      "image/png": "[encoded data removed]",
      "text/plain": [
       "<Figure size 500x500 with 1 Axes>"
      ]
     },
     "metadata": {},
     "output_type": "display_data"
    }
   ],
   "source": [
    "# Analyzing Radio and Sales\n",
    "sns.relplot(x='MarketingSpend',y='Profit',data=data)\n",
    "# Radio advertisments are not showing much trend for the sales of product."
   ]
  },
  {
   "cell_type": "markdown",
   "id": "4179499d",
   "metadata": {},
   "source": [
    "in the above plot, we see that there is slightly a relationship between MarketingSpend and Profit"
   ]
  },
  {
   "cell_type": "code",
   "execution_count": 31,
   "id": "027e66e3",
   "metadata": {
    "scrolled": false
   },
   "outputs": [
    {
     "data": {
      "text/plain": [
       "<seaborn.axisgrid.PairGrid at 0x1282f61c0>"
      ]
     },
     "execution_count": 31,
     "metadata": {},
     "output_type": "execute_result"
    },
    {
     "data": {
      "image/png": "[encoded data removed]",
      "text/plain": [
       "<Figure size 1000x1000 with 20 Axes>"
      ]
     },
     "metadata": {},
     "output_type": "display_data"
    }
   ],
   "source": [
    "## Step 3 Multivariate Analysizing\n",
    "sns.pairplot(data)"
   ]
  },
  {
   "cell_type": "markdown",
   "id": "1a997665",
   "metadata": {},
   "source": [
    "A pairplot is a type of data visualization technique used in statistics and machine learning to visualize the pairwise relationships between different variables in a dataset. It is a matrix of scatterplots, where each variable is plotted against every other variable in the dataset.\n",
    "\n",
    "Pairplots are particularly useful for exploring the relationships between multiple variables, as they allow us to quickly identify patterns and correlations between variables. They are often used in exploratory data analysis to gain insights into the underlying structure of the data, and can also be used to identify potential outliers or anomalies.\n",
    "\n",
    "In a pairplot, each scatterplot shows the relationship between two variables, with the x-axis representing one variable and the y-axis representing the other variable. The diagonal of the pairplot typically shows a histogram or a density plot of each variable, allowing us to visualize the distribution of each variable.\n",
    "\n",
    "Pairplots can be created using various Python libraries such as seaborn, matplotlib, and pandas. Seaborn is particularly popular for creating pairplots as it provides many built-in customization options and is optimized for statistical visualizations."
   ]
  },
  {
   "cell_type": "markdown",
   "id": "b982f3dd",
   "metadata": {},
   "source": [
    "# Data Preprocessing and Feature Engineering"
   ]
  },
  {
   "cell_type": "code",
   "execution_count": 32,
   "id": "422aae7a",
   "metadata": {},
   "outputs": [
    {
     "data": {
      "text/plain": [
       "RandDSpend        0\n",
       "Administration    0\n",
       "MarketingSpend    0\n",
       "State             0\n",
       "Profit            0\n",
       "dtype: int64"
      ]
     },
     "execution_count": 32,
     "metadata": {},
     "output_type": "execute_result"
    }
   ],
   "source": [
    "'''# Step 1-Finding missing values\n",
    "isnull() is a method in Python's pandas library used to check for missing or\n",
    "null values in a DataFrame or a Series. It returns a boolean mask of the same \n",
    "shape as the input object, where True represents a missing or null value and\n",
    "False represents a non-null value.'''\n",
    "data.isnull().sum()"
   ]
  },
  {
   "cell_type": "markdown",
   "id": "e92ed62b",
   "metadata": {},
   "source": [
    "in our data set, there is no missing values"
   ]
  },
  {
   "cell_type": "code",
   "execution_count": 33,
   "id": "efcda8f1",
   "metadata": {},
   "outputs": [
    {
     "data": {
      "text/html": [
       "<div>\n",
       "<style scoped>\n",
       "    .dataframe tbody tr th:only-of-type {\n",
       "        vertical-align: middle;\n",
       "    }\n",
       "\n",
       "    .dataframe tbody tr th {\n",
       "        vertical-align: top;\n",
       "    }\n",
       "\n",
       "    .dataframe thead th {\n",
       "        text-align: right;\n",
       "    }\n",
       "</style>\n",
       "<table border=\"1\" class=\"dataframe\">\n",
       "  <thead>\n",
       "    <tr style=\"text-align: right;\">\n",
       "      <th></th>\n",
       "      <th>RandDSpend</th>\n",
       "      <th>Administration</th>\n",
       "      <th>MarketingSpend</th>\n",
       "      <th>State</th>\n",
       "      <th>Profit</th>\n",
       "    </tr>\n",
       "  </thead>\n",
       "  <tbody>\n",
       "    <tr>\n",
       "      <th>0</th>\n",
       "      <td>165349.20</td>\n",
       "      <td>136897.80</td>\n",
       "      <td>471784.10</td>\n",
       "      <td>New York</td>\n",
       "      <td>192261.83</td>\n",
       "    </tr>\n",
       "    <tr>\n",
       "      <th>1</th>\n",
       "      <td>162597.70</td>\n",
       "      <td>151377.59</td>\n",
       "      <td>443898.53</td>\n",
       "      <td>California</td>\n",
       "      <td>191792.06</td>\n",
       "    </tr>\n",
       "    <tr>\n",
       "      <th>2</th>\n",
       "      <td>153441.51</td>\n",
       "      <td>101145.55</td>\n",
       "      <td>407934.54</td>\n",
       "      <td>Florida</td>\n",
       "      <td>191050.39</td>\n",
       "    </tr>\n",
       "    <tr>\n",
       "      <th>3</th>\n",
       "      <td>144372.41</td>\n",
       "      <td>118671.85</td>\n",
       "      <td>383199.62</td>\n",
       "      <td>New York</td>\n",
       "      <td>182901.99</td>\n",
       "    </tr>\n",
       "    <tr>\n",
       "      <th>4</th>\n",
       "      <td>142107.34</td>\n",
       "      <td>91391.77</td>\n",
       "      <td>366168.42</td>\n",
       "      <td>Florida</td>\n",
       "      <td>166187.94</td>\n",
       "    </tr>\n",
       "  </tbody>\n",
       "</table>\n",
       "</div>"
      ],
      "text/plain": [
       "   RandDSpend  Administration  MarketingSpend       State     Profit\n",
       "0   165349.20       136897.80       471784.10    New York  192261.83\n",
       "1   162597.70       151377.59       443898.53  California  191792.06\n",
       "2   153441.51       101145.55       407934.54     Florida  191050.39\n",
       "3   144372.41       118671.85       383199.62    New York  182901.99\n",
       "4   142107.34        91391.77       366168.42     Florida  166187.94"
      ]
     },
     "execution_count": 33,
     "metadata": {},
     "output_type": "execute_result"
    }
   ],
   "source": [
    "data.head()"
   ]
  },
  {
   "cell_type": "markdown",
   "id": "20259b23",
   "metadata": {},
   "source": [
    "# Step 3 Checking the outlier\n",
    "\n",
    "A boxplot is a graphical representation of a dataset that summarizes its distribution, particularly its central tendency, dispersion, and skewness. It is also known as a box-and-whisker plot, and is commonly used in statistical analysis to compare the distribution of multiple datasets or to identify outliers.\n",
    "\n",
    "A boxplot consists of a rectangular box and two whiskers that extend from the box. The box represents the interquartile range (IQR), which is the middle 50% of the data. The bottom and top of the box represent the first and third quartiles, respectively. The line inside the box represents the median, which is the middle value in the dataset.\n",
    "\n",
    "The whiskers extend from the box to the smallest and largest observations that are within 1.5 times the IQR from the lower and upper quartiles, respectively. Any observations outside of the whiskers are plotted as individual points and are considered out\n",
    "sns.boxplot(x='RandDSpend',data=data)"
   ]
  },
  {
   "cell_type": "code",
   "execution_count": 66,
   "id": "c0935fc8",
   "metadata": {},
   "outputs": [
    {
     "data": {
      "text/plain": [
       "<AxesSubplot:xlabel='RandDSpend'>"
      ]
     },
     "execution_count": 66,
     "metadata": {},
     "output_type": "execute_result"
    },
    {
     "data": {
      "image/png": "[encoded data removed]",
      "text/plain": [
       "<Figure size 640x480 with 1 Axes>"
      ]
     },
     "metadata": {},
     "output_type": "display_data"
    }
   ],
   "source": [
    "# Step 3 Checking the outlier\n",
    "sns.boxplot(x='RandDSpend',data=data)"
   ]
  },
  {
   "cell_type": "markdown",
   "id": "62f37c15",
   "metadata": {},
   "source": [
    "From our observation, we come to conclusion that there is no outliers in RandDSpend data points"
   ]
  },
  {
   "cell_type": "code",
   "execution_count": 35,
   "id": "284d135a",
   "metadata": {},
   "outputs": [
    {
     "data": {
      "text/plain": [
       "<AxesSubplot:xlabel='Administration'>"
      ]
     },
     "execution_count": 35,
     "metadata": {},
     "output_type": "execute_result"
    },
    {
     "data": {
      "image/png": "[encoded data removed]",
      "text/plain": [
       "<Figure size 640x480 with 1 Axes>"
      ]
     },
     "metadata": {},
     "output_type": "display_data"
    }
   ],
   "source": [
    "# Step 3 Checking the outlier\n",
    "sns.boxplot(x='Administration',data=data)"
   ]
  },
  {
   "cell_type": "markdown",
   "id": "35417631",
   "metadata": {},
   "source": [
    "From our observation, we come to conclusion that there is no outliers in Administration data points"
   ]
  },
  {
   "cell_type": "code",
   "execution_count": 37,
   "id": "22502860",
   "metadata": {
    "scrolled": false
   },
   "outputs": [
    {
     "data": {
      "text/plain": [
       "<AxesSubplot:xlabel='MarketingSpend'>"
      ]
     },
     "execution_count": 37,
     "metadata": {},
     "output_type": "execute_result"
    },
    {
     "data": {
      "image/png": "[encoded data removed]",
      "text/plain": [
       "<Figure size 640x480 with 1 Axes>"
      ]
     },
     "metadata": {},
     "output_type": "display_data"
    }
   ],
   "source": [
    "# Step 3 Checking the outlier\n",
    "sns.boxplot(x='MarketingSpend',data=data)"
   ]
  },
  {
   "cell_type": "markdown",
   "id": "040f280b",
   "metadata": {},
   "source": [
    "From our observation, we come to conclusion that there is no outliers in MarketingSpend data points"
   ]
  },
  {
   "cell_type": "markdown",
   "id": "7878a285",
   "metadata": {},
   "source": [
    "# Feature Selection"
   ]
  },
  {
   "cell_type": "markdown",
   "id": "a187326d",
   "metadata": {},
   "source": [
    "Feature selection is a process in machine learning and data analysis that involves selecting a subset of the most relevant features (or variables) from a larger set of features that are available in a dataset. The goal of feature selection is to reduce the dimensionality of the dataset, simplify the model, and improve its accuracy and performance."
   ]
  },
  {
   "cell_type": "code",
   "execution_count": 38,
   "id": "d4ff3a62",
   "metadata": {},
   "outputs": [],
   "source": [
    "#Step 1 Dropping the unwanted variables\n",
    "l1=['State']\n",
    "data.drop(l1,axis=1,inplace=True)"
   ]
  },
  {
   "cell_type": "code",
   "execution_count": 40,
   "id": "4673b3ea",
   "metadata": {},
   "outputs": [
    {
     "data": {
      "text/html": [
       "<div>\n",
       "<style scoped>\n",
       "    .dataframe tbody tr th:only-of-type {\n",
       "        vertical-align: middle;\n",
       "    }\n",
       "\n",
       "    .dataframe tbody tr th {\n",
       "        vertical-align: top;\n",
       "    }\n",
       "\n",
       "    .dataframe thead th {\n",
       "        text-align: right;\n",
       "    }\n",
       "</style>\n",
       "<table border=\"1\" class=\"dataframe\">\n",
       "  <thead>\n",
       "    <tr style=\"text-align: right;\">\n",
       "      <th></th>\n",
       "      <th>RandDSpend</th>\n",
       "      <th>Administration</th>\n",
       "      <th>MarketingSpend</th>\n",
       "      <th>Profit</th>\n",
       "    </tr>\n",
       "  </thead>\n",
       "  <tbody>\n",
       "    <tr>\n",
       "      <th>0</th>\n",
       "      <td>165349.20</td>\n",
       "      <td>136897.80</td>\n",
       "      <td>471784.10</td>\n",
       "      <td>192261.83</td>\n",
       "    </tr>\n",
       "    <tr>\n",
       "      <th>1</th>\n",
       "      <td>162597.70</td>\n",
       "      <td>151377.59</td>\n",
       "      <td>443898.53</td>\n",
       "      <td>191792.06</td>\n",
       "    </tr>\n",
       "    <tr>\n",
       "      <th>2</th>\n",
       "      <td>153441.51</td>\n",
       "      <td>101145.55</td>\n",
       "      <td>407934.54</td>\n",
       "      <td>191050.39</td>\n",
       "    </tr>\n",
       "    <tr>\n",
       "      <th>3</th>\n",
       "      <td>144372.41</td>\n",
       "      <td>118671.85</td>\n",
       "      <td>383199.62</td>\n",
       "      <td>182901.99</td>\n",
       "    </tr>\n",
       "    <tr>\n",
       "      <th>4</th>\n",
       "      <td>142107.34</td>\n",
       "      <td>91391.77</td>\n",
       "      <td>366168.42</td>\n",
       "      <td>166187.94</td>\n",
       "    </tr>\n",
       "  </tbody>\n",
       "</table>\n",
       "</div>"
      ],
      "text/plain": [
       "   RandDSpend  Administration  MarketingSpend     Profit\n",
       "0   165349.20       136897.80       471784.10  192261.83\n",
       "1   162597.70       151377.59       443898.53  191792.06\n",
       "2   153441.51       101145.55       407934.54  191050.39\n",
       "3   144372.41       118671.85       383199.62  182901.99\n",
       "4   142107.34        91391.77       366168.42  166187.94"
      ]
     },
     "execution_count": 40,
     "metadata": {},
     "output_type": "execute_result"
    }
   ],
   "source": [
    "data.head()"
   ]
  },
  {
   "cell_type": "code",
   "execution_count": 41,
   "id": "f8c617b1",
   "metadata": {},
   "outputs": [
    {
     "data": {
      "text/plain": [
       "<AxesSubplot:>"
      ]
     },
     "execution_count": 41,
     "metadata": {},
     "output_type": "execute_result"
    },
    {
     "data": {
      "image/png": "[encoded data removed]",
      "text/plain": [
       "<Figure size 640x480 with 2 Axes>"
      ]
     },
     "metadata": {},
     "output_type": "display_data"
    }
   ],
   "source": [
    "## Step 2 Checking the correlation\n",
    "sns.heatmap(data.drop('Profit',axis=1).corr(),annot=True)\n",
    "\n",
    "'''A heatmap is a graphical representation of a matrix or a table in which the values are\n",
    "represented by colors. It is commonly used in data analysis and visualization to\n",
    "display complex data sets and highlight patterns and trends in the data.\n",
    "\n",
    "Heatmaps are particularly useful when working with large datasets, as they can help to \n",
    "quickly identify correlations and relationships between different variables in the data. \n",
    "They are often used in fields such as finance, biology, and social science, among others.'''"
   ]
  },
  {
   "cell_type": "markdown",
   "id": "722353dd",
   "metadata": {},
   "source": [
    "corr() is a method in Pandas, a popular data analysis library in Python, \n",
    "that calculates the pairwise correlation between columns of a DataFrame. The correlation\n",
    "coefficient is a measure of the strength and direction of the linear relationship between\n",
    "two variables, ranging from -1 to +1.\n",
    "\n",
    "A correlation of +1 indicates a perfect positive correlation, \n",
    "where as one variable increases, so does the other. A correlation of -1 \n",
    "indicates a perfect negative correlation, where as one variable increases, the \n",
    "other decreases. A correlation of 0 indicates no linear correlation between the variables."
   ]
  },
  {
   "cell_type": "code",
   "execution_count": 42,
   "id": "1fa6c773",
   "metadata": {},
   "outputs": [
    {
     "data": {
      "text/html": [
       "<div>\n",
       "<style scoped>\n",
       "    .dataframe tbody tr th:only-of-type {\n",
       "        vertical-align: middle;\n",
       "    }\n",
       "\n",
       "    .dataframe tbody tr th {\n",
       "        vertical-align: top;\n",
       "    }\n",
       "\n",
       "    .dataframe thead th {\n",
       "        text-align: right;\n",
       "    }\n",
       "</style>\n",
       "<table border=\"1\" class=\"dataframe\">\n",
       "  <thead>\n",
       "    <tr style=\"text-align: right;\">\n",
       "      <th></th>\n",
       "      <th>RandDSpend</th>\n",
       "      <th>Administration</th>\n",
       "      <th>MarketingSpend</th>\n",
       "      <th>Profit</th>\n",
       "    </tr>\n",
       "  </thead>\n",
       "  <tbody>\n",
       "    <tr>\n",
       "      <th>RandDSpend</th>\n",
       "      <td>1.000000</td>\n",
       "      <td>0.241955</td>\n",
       "      <td>0.724248</td>\n",
       "      <td>0.972900</td>\n",
       "    </tr>\n",
       "    <tr>\n",
       "      <th>Administration</th>\n",
       "      <td>0.241955</td>\n",
       "      <td>1.000000</td>\n",
       "      <td>-0.032154</td>\n",
       "      <td>0.200717</td>\n",
       "    </tr>\n",
       "    <tr>\n",
       "      <th>MarketingSpend</th>\n",
       "      <td>0.724248</td>\n",
       "      <td>-0.032154</td>\n",
       "      <td>1.000000</td>\n",
       "      <td>0.747766</td>\n",
       "    </tr>\n",
       "    <tr>\n",
       "      <th>Profit</th>\n",
       "      <td>0.972900</td>\n",
       "      <td>0.200717</td>\n",
       "      <td>0.747766</td>\n",
       "      <td>1.000000</td>\n",
       "    </tr>\n",
       "  </tbody>\n",
       "</table>\n",
       "</div>"
      ],
      "text/plain": [
       "                RandDSpend  Administration  MarketingSpend    Profit\n",
       "RandDSpend        1.000000        0.241955        0.724248  0.972900\n",
       "Administration    0.241955        1.000000       -0.032154  0.200717\n",
       "MarketingSpend    0.724248       -0.032154        1.000000  0.747766\n",
       "Profit            0.972900        0.200717        0.747766  1.000000"
      ]
     },
     "execution_count": 42,
     "metadata": {},
     "output_type": "execute_result"
    }
   ],
   "source": [
    "data.corr()\n"
   ]
  },
  {
   "cell_type": "markdown",
   "id": "a93635af",
   "metadata": {},
   "source": [
    " * there is a strong  correlation between RandDSpend and profit\n",
    " * there is a strong correlation between MarketingSpend and profit\n",
    "\n"
   ]
  },
  {
   "cell_type": "markdown",
   "id": "79ed3008",
   "metadata": {},
   "source": [
    "# Model Creation"
   ]
  },
  {
   "cell_type": "code",
   "execution_count": 43,
   "id": "797a0f12",
   "metadata": {},
   "outputs": [
    {
     "data": {
      "text/html": [
       "<div>\n",
       "<style scoped>\n",
       "    .dataframe tbody tr th:only-of-type {\n",
       "        vertical-align: middle;\n",
       "    }\n",
       "\n",
       "    .dataframe tbody tr th {\n",
       "        vertical-align: top;\n",
       "    }\n",
       "\n",
       "    .dataframe thead th {\n",
       "        text-align: right;\n",
       "    }\n",
       "</style>\n",
       "<table border=\"1\" class=\"dataframe\">\n",
       "  <thead>\n",
       "    <tr style=\"text-align: right;\">\n",
       "      <th></th>\n",
       "      <th>RandDSpend</th>\n",
       "      <th>Administration</th>\n",
       "      <th>MarketingSpend</th>\n",
       "      <th>Profit</th>\n",
       "    </tr>\n",
       "  </thead>\n",
       "  <tbody>\n",
       "    <tr>\n",
       "      <th>0</th>\n",
       "      <td>165349.20</td>\n",
       "      <td>136897.80</td>\n",
       "      <td>471784.10</td>\n",
       "      <td>192261.83</td>\n",
       "    </tr>\n",
       "    <tr>\n",
       "      <th>1</th>\n",
       "      <td>162597.70</td>\n",
       "      <td>151377.59</td>\n",
       "      <td>443898.53</td>\n",
       "      <td>191792.06</td>\n",
       "    </tr>\n",
       "    <tr>\n",
       "      <th>2</th>\n",
       "      <td>153441.51</td>\n",
       "      <td>101145.55</td>\n",
       "      <td>407934.54</td>\n",
       "      <td>191050.39</td>\n",
       "    </tr>\n",
       "    <tr>\n",
       "      <th>3</th>\n",
       "      <td>144372.41</td>\n",
       "      <td>118671.85</td>\n",
       "      <td>383199.62</td>\n",
       "      <td>182901.99</td>\n",
       "    </tr>\n",
       "    <tr>\n",
       "      <th>4</th>\n",
       "      <td>142107.34</td>\n",
       "      <td>91391.77</td>\n",
       "      <td>366168.42</td>\n",
       "      <td>166187.94</td>\n",
       "    </tr>\n",
       "  </tbody>\n",
       "</table>\n",
       "</div>"
      ],
      "text/plain": [
       "   RandDSpend  Administration  MarketingSpend     Profit\n",
       "0   165349.20       136897.80       471784.10  192261.83\n",
       "1   162597.70       151377.59       443898.53  191792.06\n",
       "2   153441.51       101145.55       407934.54  191050.39\n",
       "3   144372.41       118671.85       383199.62  182901.99\n",
       "4   142107.34        91391.77       366168.42  166187.94"
      ]
     },
     "execution_count": 43,
     "metadata": {},
     "output_type": "execute_result"
    }
   ],
   "source": [
    "data.head()"
   ]
  },
  {
   "cell_type": "code",
   "execution_count": 72,
   "id": "2182151c",
   "metadata": {},
   "outputs": [],
   "source": [
    "#Step 1 Independent and dependent variable creation\n",
    "X=data[['RandDSpend','Administration']] ## X variable contains all inputs\n",
    "y=data.Profit ## y is output"
   ]
  },
  {
   "cell_type": "code",
   "execution_count": 73,
   "id": "eef0701c",
   "metadata": {},
   "outputs": [
    {
     "data": {
      "text/html": [
       "<div>\n",
       "<style scoped>\n",
       "    .dataframe tbody tr th:only-of-type {\n",
       "        vertical-align: middle;\n",
       "    }\n",
       "\n",
       "    .dataframe tbody tr th {\n",
       "        vertical-align: top;\n",
       "    }\n",
       "\n",
       "    .dataframe thead th {\n",
       "        text-align: right;\n",
       "    }\n",
       "</style>\n",
       "<table border=\"1\" class=\"dataframe\">\n",
       "  <thead>\n",
       "    <tr style=\"text-align: right;\">\n",
       "      <th></th>\n",
       "      <th>RandDSpend</th>\n",
       "      <th>Administration</th>\n",
       "    </tr>\n",
       "  </thead>\n",
       "  <tbody>\n",
       "    <tr>\n",
       "      <th>0</th>\n",
       "      <td>165349.20</td>\n",
       "      <td>136897.80</td>\n",
       "    </tr>\n",
       "    <tr>\n",
       "      <th>1</th>\n",
       "      <td>162597.70</td>\n",
       "      <td>151377.59</td>\n",
       "    </tr>\n",
       "    <tr>\n",
       "      <th>2</th>\n",
       "      <td>153441.51</td>\n",
       "      <td>101145.55</td>\n",
       "    </tr>\n",
       "    <tr>\n",
       "      <th>3</th>\n",
       "      <td>144372.41</td>\n",
       "      <td>118671.85</td>\n",
       "    </tr>\n",
       "    <tr>\n",
       "      <th>4</th>\n",
       "      <td>142107.34</td>\n",
       "      <td>91391.77</td>\n",
       "    </tr>\n",
       "  </tbody>\n",
       "</table>\n",
       "</div>"
      ],
      "text/plain": [
       "   RandDSpend  Administration\n",
       "0   165349.20       136897.80\n",
       "1   162597.70       151377.59\n",
       "2   153441.51       101145.55\n",
       "3   144372.41       118671.85\n",
       "4   142107.34        91391.77"
      ]
     },
     "execution_count": 73,
     "metadata": {},
     "output_type": "execute_result"
    }
   ],
   "source": [
    "X.head()"
   ]
  },
  {
   "cell_type": "code",
   "execution_count": 74,
   "id": "58c6394f",
   "metadata": {},
   "outputs": [
    {
     "data": {
      "text/plain": [
       "0     192261.83\n",
       "1     191792.06\n",
       "2     191050.39\n",
       "3     182901.99\n",
       "4     166187.94\n",
       "5     156991.12\n",
       "6     156122.51\n",
       "7     155752.60\n",
       "8     152211.77\n",
       "9     149759.96\n",
       "10    146121.95\n",
       "11    144259.40\n",
       "12    141585.52\n",
       "13    134307.35\n",
       "14    132602.65\n",
       "15    129917.04\n",
       "16    126992.93\n",
       "17    125370.37\n",
       "18    124266.90\n",
       "19    122776.86\n",
       "20    118474.03\n",
       "21    111313.02\n",
       "22    110352.25\n",
       "23    108733.99\n",
       "24    108552.04\n",
       "25    107404.34\n",
       "26    105733.54\n",
       "27    105008.31\n",
       "28    103282.38\n",
       "29    101004.64\n",
       "30     99937.59\n",
       "31     97483.56\n",
       "32     97427.84\n",
       "33     96778.92\n",
       "34     96712.80\n",
       "35     96479.51\n",
       "36     90708.19\n",
       "37     89949.14\n",
       "38     81229.06\n",
       "39     81005.76\n",
       "40     78239.91\n",
       "41     77798.83\n",
       "42     71498.49\n",
       "43     69758.98\n",
       "44     65200.33\n",
       "45     64926.08\n",
       "46     49490.75\n",
       "47     42559.73\n",
       "48     35673.41\n",
       "49     14681.40\n",
       "Name: Profit, dtype: float64"
      ]
     },
     "execution_count": 74,
     "metadata": {},
     "output_type": "execute_result"
    }
   ],
   "source": [
    "y"
   ]
  },
  {
   "cell_type": "markdown",
   "id": "a4e1c322",
   "metadata": {},
   "source": [
    "sklearn (short for scikit-learn) is a popular machine learning library in Python that provides a wide range of tools for data analysis, preprocessing, model selection, and evaluation. It is built on top of other scientific computing packages like NumPy, SciPy, and matplotlib.\n",
    "\n",
    "sklearn provides a consistent interface for performing common machine learning tasks such as classification, regression, clustering, and dimensionality reduction. It includes a large number of algorithms, ranging from simple linear models and decision trees to complex deep learning architectures.\n",
    "\n",
    "Some of the key features of sklearn include:\n",
    "\n",
    "    A user-friendly API that makes it easy to build and evaluate machine learning models.\n",
    "    A wide range of algorithms and pre-processing techniques, allowing for flexible and customizable workflows.\n",
    "    Built-in functionality for data splitting, cross-validation, and hyperparameter tuning.\n",
    "    Support for both supervised and unsupervised learning, as well as other advanced techniques like semi-supervised and reinforcement learning.\n",
    "    Integration with other scientific computing packages like NumPy, Pandas, and matplotlib for efficient data processing and visualization.\n",
    "\n",
    "Overall, sklearn is a powerful and flexible machine learning library that can be used for a wide range of tasks, from simple data analysis to complex modeling and prediction."
   ]
  },
  {
   "cell_type": "markdown",
   "id": "18650b27",
   "metadata": {},
   "source": [
    "train_test_split is a method in scikit-learn, a popular machine learning library in Python, that splits a dataset into training and testing sets. This method is commonly used to evaluate the performance of machine learning models.\n",
    "\n",
    "The train_test_split function randomly splits the dataset into two subsets: a training set and a testing set. The training set is used to train the machine learning model, while the testing set is used to evaluate the performance of the model."
   ]
  },
  {
   "cell_type": "code",
   "execution_count": 75,
   "id": "5d81951f",
   "metadata": {},
   "outputs": [],
   "source": [
    "# Step 2 Traning and testing data creation\n",
    "from sklearn.model_selection import train_test_split\n",
    "X_train,X_test,y_train,y_test=train_test_split(X,y,test_size=0.2,random_state=5)"
   ]
  },
  {
   "cell_type": "code",
   "execution_count": 76,
   "id": "1b25ea11",
   "metadata": {},
   "outputs": [
    {
     "data": {
      "text/plain": [
       "(40, 2)"
      ]
     },
     "execution_count": 76,
     "metadata": {},
     "output_type": "execute_result"
    }
   ],
   "source": [
    "X_train.shape"
   ]
  },
  {
   "cell_type": "markdown",
   "id": "d3242415",
   "metadata": {},
   "source": [
    "# Creating model"
   ]
  },
  {
   "cell_type": "markdown",
   "id": "e19313e7",
   "metadata": {},
   "source": [
    "linear_model is a module in the sklearn library that provides various linear models for regression, classification, and other related tasks. It contains a range of linear algorithms including:\n",
    "\n",
    "    Linear Regression\n",
    "    Ridge Regression\n",
    "    Lasso Regression\n",
    "    Elastic Net Regression\n",
    "    Logistic Regression\n",
    "    Linear Discriminant Analysis (LDA)\n",
    "\n",
    "These algorithms are based on linear assumptions that can be used for various predictive modeling tasks. For example, linear regression can be used to predict a continuous target variable, while logistic regression can be used to predict a binary or categorical target variable.\n",
    "\n",
    "linear_model also includes tools for regularization and model selection, which can be used to improve the performance of linear models and prevent overfitting.\n",
    "\n"
   ]
  },
  {
   "cell_type": "code",
   "execution_count": 77,
   "id": "a8f6d463",
   "metadata": {},
   "outputs": [],
   "source": [
    "# Step 3 Creating model\n",
    "from sklearn.linear_model import LinearRegression\n",
    "\n",
    "LR=LinearRegression() # object creation\n",
    "LR.fit(X_train,y_train) # training of linear regression\n",
    "y_predict=LR.predict(X_test)"
   ]
  },
  {
   "cell_type": "markdown",
   "id": "4fad7abf",
   "metadata": {},
   "source": [
    "Linear regression is a statistical method used to model the relationship between a dependent variable (also known as the response variable or target variable) and one or more independent variables (also known as the explanatory variables or predictors).\n",
    "\n",
    "The goal of linear regression is to find a linear relationship between the independent variable(s) and the dependent variable. This relationship is expressed in the form of a linear equation, which can be used to make predictions about the dependent variable given values for the independent variable(s).\n",
    "\n",
    "In its simplest form, linear regression involves fitting a straight line to the data points. However, in more complex cases, multiple regression can be used to fit a plane or hyperplane to the data points.\n",
    "\n",
    "Linear regression is widely used in many fields, including finance, economics, and engineering, to predict future values or estimate the strength of the relationship between variables.\n",
    "\n",
    "fit() is a method in machine learning libraries like scikit-learn that is used to train a model on a given dataset. The fit() method takes the input data and output data as arguments and fits the model to the training data. During this process, the model learns the relationship between the input data and output data, and tries to minimize the error between the predicted output and actual output.\n",
    "\n",
    "For example, in linear regression, the fit() method takes the input data (independent variable) and output data (dependent variable) as arguments and fits a linear regression model to the data. The model will try to find the best fit line that can predict the output data from the input data.\n",
    "\n",
    "After the model is trained using the fit() method, it can be used to make predictions on new data that the model has not seen before. The predict() method is used to make these predictions.\n",
    "\n",
    "Overall, the fit() method is a crucial step in the machine learning pipeline as it trains the model and prepares it to make accurate predictions on new data."
   ]
  },
  {
   "cell_type": "code",
   "execution_count": 78,
   "id": "d5a6bdaa",
   "metadata": {},
   "outputs": [],
   "source": [
    "y_pre_train = LR.predict(X_train)"
   ]
  },
  {
   "cell_type": "markdown",
   "id": "4437be63",
   "metadata": {},
   "source": [
    "predict() is a method in machine learning libraries like scikit-learn that is used to make predictions on new data using a trained model.\n",
    "\n",
    "Once a model is trained using the fit() method on a given dataset, the predict() method can be used to make predictions on new, unseen data. The predict() method takes the input data as an argument and returns the predicted output.\n",
    "\n",
    "For example, in linear regression, after training the model on the input and output data using the fit() method, we can use the predict() method to predict the output for new input data. The predict() method takes the new input data as an argument and returns the predicted output using the coefficients learned during training.\n",
    "\n",
    "The predict() method is an important step in the machine learning pipeline, as it enables the model to make predictions on new data that the model has not seen before. This allows the model to be used in real-world scenarios where new data is constantly being generated, and the model needs to make predictions on that data."
   ]
  },
  {
   "cell_type": "code",
   "execution_count": 79,
   "id": "3f1be6c6",
   "metadata": {},
   "outputs": [
    {
     "data": {
      "text/plain": [
       "array([ 99904.42667555, 171016.32617801, 102619.61157059, 189342.11775712,\n",
       "       106913.79307038, 162009.18237595,  51542.37707153,  87188.44223458,\n",
       "        88695.94563971, 112296.7513871 ,  73788.50878301,  96731.42182116,\n",
       "       115242.94308868, 136087.45618947,  66595.03336514, 103349.50302892,\n",
       "       127297.11184242, 111864.20960069, 114086.59292232,  48923.14762249,\n",
       "       186515.83748367, 135650.13502061, 126799.85755203,  73404.93248936,\n",
       "        50084.10748051, 146449.41228584, 128666.75898291, 159150.88902873,\n",
       "        49539.54885256, 101861.72807361, 110086.24394773,  82945.62497592,\n",
       "        73046.3256136 , 150721.9031111 , 154428.01644964, 115332.05018131,\n",
       "        67870.36119969,  48313.44859126, 149951.79623317,  89238.45022196])"
      ]
     },
     "execution_count": 79,
     "metadata": {},
     "output_type": "execute_result"
    }
   ],
   "source": [
    "y_train # actual output\n",
    "y_pre_train # predicted output"
   ]
  },
  {
   "cell_type": "code",
   "execution_count": 80,
   "id": "b0be23b1",
   "metadata": {},
   "outputs": [
    {
     "data": {
      "text/plain": [
       "42     71498.49\n",
       "29    101004.64\n",
       "6     156122.51\n",
       "19    122776.86\n",
       "28    103282.38\n",
       "17    125370.37\n",
       "2     191050.39\n",
       "43     69758.98\n",
       "3     182901.99\n",
       "21    111313.02\n",
       "Name: Profit, dtype: float64"
      ]
     },
     "execution_count": 80,
     "metadata": {},
     "output_type": "execute_result"
    }
   ],
   "source": [
    "y_test # Actual values"
   ]
  },
  {
   "cell_type": "code",
   "execution_count": 81,
   "id": "755812e1",
   "metadata": {},
   "outputs": [
    {
     "data": {
      "text/plain": [
       "array([ 69781.20391145, 103706.58557952, 162779.30230829, 121449.51307555,\n",
       "       103108.17725547, 128756.67925339, 180364.28918346,  61809.00646848,\n",
       "       172047.06817827, 114589.48226649])"
      ]
     },
     "execution_count": 81,
     "metadata": {},
     "output_type": "execute_result"
    }
   ],
   "source": [
    "y_predict # Values predicted by model"
   ]
  },
  {
   "cell_type": "markdown",
   "id": "d7b7d365",
   "metadata": {},
   "source": [
    "# Model Evalution"
   ]
  },
  {
   "cell_type": "markdown",
   "id": "af7967a4",
   "metadata": {},
   "source": [
    "Model evaluation is the process of assessing the performance of a \n",
    "machine learning model. It is important to evaluate a model's performance to ensure that it is accurate, \n",
    "reliable, and effective in making predictions on new data."
   ]
  },
  {
   "cell_type": "code",
   "execution_count": 82,
   "id": "59742e1d",
   "metadata": {},
   "outputs": [],
   "source": [
    "# Step 4 Model Evalution\n",
    " \n",
    "from sklearn.metrics import r2_score,mean_squared_error,mean_absolute_error\n",
    "r2score=r2_score(y_test,y_predict)"
   ]
  },
  {
   "cell_type": "markdown",
   "id": "6ee903cb",
   "metadata": {},
   "source": [
    "r2_score is a popular metric used for evaluating the performance of regression models in machine learning. It is also known as the coefficient of determination and is a statistical measure that represents the proportion of the variance in the dependent variable that is predictable from the independent variable(s).\n",
    "\n",
    "The r2_score function takes two arrays as input - the true values of the dependent variable (actual output) and the predicted values of the dependent variable (predicted output). It then calculates the R-squared value, which is a value between 0 and 1 that indicates how well the model fits the data. An R-squared value of 1 indicates a perfect fit, while a value of 0 indicates that the model does not explain any of the variability in the dependent variable.\n",
    "\n",
    "For example, in linear regression, the r2_score function can be used to evaluate how well the model fits the data by comparing the predicted output to the actual output. A high R-squared value indicates that the model is a good fit for the data and that it can accurately predict the dependent variable based on the independent variable(s).\n",
    "\n",
    "Overall, r2_score is a useful metric for evaluating regression models as it provides a measure of the model's goodness of fit and can be used to compare the performance of different models.\n",
    "\n",
    "Mean_squared_error is a popular metric used for evaluating the performance of regression models in machine learning. It measures the average of the squared differences between the predicted values and the true values of the dependent variable.\n",
    "\n",
    "The mean_squared_error function takes two arrays as input - the true values of the dependent variable (actual output) and the predicted values of the dependent variable (predicted output). It then calculates the mean of the squared differences between the two arrays.\n",
    "\n",
    "For example, in linear regression, the mean_squared_error function can be used to evaluate how well the model fits the data by comparing the predicted output to the actual output. A lower mean squared error indicates that the model is better at predicting the dependent variable based on the independent variable(s).\n",
    "\n",
    "One of the advantages of using mean_squared_error is that it penalizes large errors more heavily than small errors, as it involves squaring the differences. However, since it involves taking the square of the differences, it may not be directly interpretable in terms of the original units of the dependent variable.\n",
    "\n",
    "Overall, mean_squared_error is a useful metric for evaluating regression models, as it provides a measure of the average error between the predicted and true values and can be used to compare the performance of different models."
   ]
  },
  {
   "cell_type": "code",
   "execution_count": 83,
   "id": "fe0bdcfb",
   "metadata": {},
   "outputs": [
    {
     "data": {
      "text/plain": [
       "0.9763661084183356"
      ]
     },
     "execution_count": 83,
     "metadata": {},
     "output_type": "execute_result"
    }
   ],
   "source": [
    "r2score # testing score"
   ]
  },
  {
   "cell_type": "code",
   "execution_count": 84,
   "id": "1cb57a68",
   "metadata": {},
   "outputs": [
    {
     "data": {
      "text/plain": [
       "0.9387777984585721"
      ]
     },
     "execution_count": 84,
     "metadata": {},
     "output_type": "execute_result"
    }
   ],
   "source": [
    "train_score=r2_score(y_train,y_pre_train) # training score\n",
    "train_score"
   ]
  },
  {
   "cell_type": "code",
   "execution_count": 85,
   "id": "828992f0",
   "metadata": {},
   "outputs": [
    {
     "data": {
      "text/plain": [
       "((40, 2), (10, 2))"
      ]
     },
     "execution_count": 85,
     "metadata": {},
     "output_type": "execute_result"
    }
   ],
   "source": [
    "X_train.shape,X_test.shape"
   ]
  },
  {
   "cell_type": "code",
   "execution_count": 86,
   "id": "19f9a9bb",
   "metadata": {},
   "outputs": [
    {
     "data": {
      "text/plain": [
       "(10, 2)"
      ]
     },
     "execution_count": 86,
     "metadata": {},
     "output_type": "execute_result"
    }
   ],
   "source": [
    "X_test.shape"
   ]
  },
  {
   "cell_type": "code",
   "execution_count": 88,
   "id": "67e401d5",
   "metadata": {},
   "outputs": [
    {
     "data": {
      "text/plain": [
       "0.9485714285714285"
      ]
     },
     "execution_count": 88,
     "metadata": {},
     "output_type": "execute_result"
    }
   ],
   "source": [
    "## calculation of adjusted r2 score\n",
    "adjusted_r2 = 1-(1-0.96)*(10-1)/(10-2-1)\n",
    "adjusted_r2"
   ]
  },
  {
   "cell_type": "code",
   "execution_count": 89,
   "id": "07520da7",
   "metadata": {},
   "outputs": [
    {
     "name": "stdout",
     "output_type": "stream",
     "text": [
      "37378111.46266996\n",
      "6113.764099363825\n"
     ]
    }
   ],
   "source": [
    "import math\n",
    "print(mean_squared_error(y_test,y_predict))\n",
    "print(math.sqrt(mean_squared_error(y_test,y_predict))) # root mean squared error"
   ]
  },
  {
   "cell_type": "markdown",
   "id": "b7416771",
   "metadata": {},
   "source": [
    "mean_absolute_error is a popular metric used for evaluating the performance of regression models in machine learning. It measures the average of the absolute differences between the predicted values and the true values of the dependent variable.\n",
    "\n",
    "The mean_absolute_error function takes two arrays as input - the true values of the dependent variable (actual output) and the predicted values of the dependent variable (predicted output). It then calculates the mean of the absolute differences between the two arrays.\n",
    "\n",
    "For example, in linear regression, the mean_absolute_error function can be used to evaluate how well the model fits the data by comparing the predicted output to the actual output. A lower mean absolute error indicates that the model is better at predicting the dependent variable based on the independent variable(s).\n",
    "\n",
    "One of the advantages of using mean_absolute_error is that it is more robust to outliers than mean squared error, since it only involves taking the absolute value of the differences. However, since it involves taking the absolute value of the differences, it may not be directly interpretable in terms of the original units of the dependent variable.\n",
    "\n",
    "Overall, mean_absolute_error is a useful metric for evaluating regression models, as it provides a measure of the average absolute error between the predicted and true values and can be used to compare the performance of different models."
   ]
  },
  {
   "cell_type": "code",
   "execution_count": 90,
   "id": "9de0e4ec",
   "metadata": {},
   "outputs": [
    {
     "name": "stdout",
     "output_type": "stream",
     "text": [
      "4873.134133500798\n"
     ]
    }
   ],
   "source": [
    "print(mean_absolute_error(y_test,y_predict))"
   ]
  },
  {
   "cell_type": "code",
   "execution_count": 92,
   "id": "90c8d8ac",
   "metadata": {},
   "outputs": [
    {
     "data": {
      "text/plain": [
       "'/Users/mac/Documents/datascienceonecampus/DatamitesTraining/Assignment'"
      ]
     },
     "execution_count": 92,
     "metadata": {},
     "output_type": "execute_result"
    }
   ],
   "source": [
    "pwd"
   ]
  },
  {
   "cell_type": "code",
   "execution_count": null,
   "id": "fa75e858",
   "metadata": {},
   "outputs": [],
   "source": []
  },
  {
   "cell_type": "code",
   "execution_count": null,
   "id": "2598fa85",
   "metadata": {},
   "outputs": [],
   "source": []
  },
  {
   "cell_type": "code",
   "execution_count": null,
   "id": "9fc67dcf",
   "metadata": {},
   "outputs": [],
   "source": []
  },
  {
   "cell_type": "code",
   "execution_count": null,
   "id": "28880d7f",
   "metadata": {},
   "outputs": [],
   "source": []
  },
  {
   "cell_type": "code",
   "execution_count": null,
   "id": "2a079cea",
   "metadata": {},
   "outputs": [],
   "source": []
  },
  {
   "cell_type": "code",
   "execution_count": null,
   "id": "ba06c1f2",
   "metadata": {},
   "outputs": [],
   "source": []
  },
  {
   "cell_type": "code",
   "execution_count": null,
   "id": "5d8957e0",
   "metadata": {},
   "outputs": [],
   "source": []
  },
  {
   "cell_type": "code",
   "execution_count": null,
   "id": "54276163",
   "metadata": {},
   "outputs": [],
   "source": []
  },
  {
   "cell_type": "code",
   "execution_count": null,
   "id": "507e7815",
   "metadata": {},
   "outputs": [],
   "source": []
  },
  {
   "cell_type": "code",
   "execution_count": null,
   "id": "7101ae08",
   "metadata": {},
   "outputs": [],
   "source": []
  },
  {
   "cell_type": "code",
   "execution_count": null,
   "id": "acd69d5d",
   "metadata": {},
   "outputs": [],
   "source": []
  }
 ],
 "metadata": {
  "kernelspec": {
   "display_name": "Python 3 (ipykernel)",
   "language": "python",
   "name": "python3"
  },
  "language_info": {
   "codemirror_mode": {
    "name": "ipython",
    "version": 3
   },
   "file_extension": ".py",
   "mimetype": "text/x-python",
   "name": "python",
   "nbconvert_exporter": "python",
   "pygments_lexer": "ipython3",
   "version": "3.9.13"
  }
 },
 "nbformat": 4,
 "nbformat_minor": 5
}
